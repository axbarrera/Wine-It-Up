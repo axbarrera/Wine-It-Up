{
 "cells": [
  {
   "cell_type": "code",
   "execution_count": null,
   "metadata": {},
   "outputs": [],
   "source": [
    "from flask import Flask, render_template, redirect, jsonify\n",
    "from flask_pymongo import PyMongo\n",
    "import scrape_mars\n",
    "\n",
    "# Use flask_pymongo to set up mongo connection\n",
    "app = Flask(__name__)\n",
    "mongo = PyMongo(app, uri=“mongodb://localhost:27017/mars_db”)\n",
    "\n",
    "# route\n",
    "@app.route(“/”)\n",
    "def index():\n",
    "   mars = mongo.db.mars.find_one()\n",
    "   # print(mars)\n",
    "   return render_template(“index.html”, mars = mars)\n",
    "\n",
    "@app.route(“/scrape”)\n",
    "def scrape():\n",
    "\n",
    "   mars = mongo.db.mars\n",
    "   mars_data = scrape_mars.scrape()\n",
    "   mars.update({}, mars_data, upsert=True)\n",
    "\n",
    "   return redirect(“http://localhost:5000/“, code=302)\n",
    "\n",
    "if __name__ == “__main__“:\n",
    "   app.run(debug=True)"
   ]
  }
 ],
 "metadata": {
  "kernelspec": {
   "display_name": "Python 3",
   "language": "python",
   "name": "python3"
  },
  "language_info": {
   "codemirror_mode": {
    "name": "ipython",
    "version": 3
   },
   "file_extension": ".py",
   "mimetype": "text/x-python",
   "name": "python",
   "nbconvert_exporter": "python",
   "pygments_lexer": "ipython3",
   "version": "3.6.5"
  }
 },
 "nbformat": 4,
 "nbformat_minor": 2
}
