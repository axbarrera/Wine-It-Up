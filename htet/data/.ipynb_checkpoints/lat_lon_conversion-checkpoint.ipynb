{
 "cells": [
  {
   "cell_type": "code",
   "execution_count": 1,
   "metadata": {},
   "outputs": [],
   "source": [
    "# import dependencies \n",
    "import pandas as pd\n",
    "import requests\n",
    "import json\n",
    "from pprint import pprint\n",
    "from config import gkey"
   ]
  },
  {
   "cell_type": "code",
   "execution_count": 2,
   "metadata": {},
   "outputs": [],
   "source": [
    "# read csv file \n",
    "cleaned_file = \"wine_fulldata.csv\"\n",
    "\n",
    "wine_df = pd.read_csv(cleaned_file)"
   ]
  },
  {
   "cell_type": "code",
   "execution_count": 3,
   "metadata": {},
   "outputs": [
    {
     "data": {
      "text/html": [
       "<div>\n",
       "<style scoped>\n",
       "    .dataframe tbody tr th:only-of-type {\n",
       "        vertical-align: middle;\n",
       "    }\n",
       "\n",
       "    .dataframe tbody tr th {\n",
       "        vertical-align: top;\n",
       "    }\n",
       "\n",
       "    .dataframe thead th {\n",
       "        text-align: right;\n",
       "    }\n",
       "</style>\n",
       "<table border=\"1\" class=\"dataframe\">\n",
       "  <thead>\n",
       "    <tr style=\"text-align: right;\">\n",
       "      <th></th>\n",
       "      <th>Unnamed: 0</th>\n",
       "      <th>id</th>\n",
       "      <th>country</th>\n",
       "      <th>description</th>\n",
       "      <th>designation</th>\n",
       "      <th>points</th>\n",
       "      <th>price</th>\n",
       "      <th>province</th>\n",
       "      <th>first_region</th>\n",
       "      <th>second_region</th>\n",
       "      <th>taster_name</th>\n",
       "      <th>taster_twitter_handle</th>\n",
       "      <th>title</th>\n",
       "      <th>variety</th>\n",
       "      <th>winery</th>\n",
       "    </tr>\n",
       "  </thead>\n",
       "  <tbody>\n",
       "    <tr>\n",
       "      <th>0</th>\n",
       "      <td>4</td>\n",
       "      <td>4</td>\n",
       "      <td>US</td>\n",
       "      <td>Much like the regular bottling from 2012, this...</td>\n",
       "      <td>Vintner's Reserve Wild Child Block</td>\n",
       "      <td>87</td>\n",
       "      <td>65.0</td>\n",
       "      <td>Oregon</td>\n",
       "      <td>Willamette Valley</td>\n",
       "      <td>Willamette Valley</td>\n",
       "      <td>Paul Gregutt</td>\n",
       "      <td>@paulgwine</td>\n",
       "      <td>Sweet Cheeks 2012 Vintner's Reserve Wild Child...</td>\n",
       "      <td>Pinot Noir</td>\n",
       "      <td>Sweet Cheeks</td>\n",
       "    </tr>\n",
       "    <tr>\n",
       "      <th>1</th>\n",
       "      <td>10</td>\n",
       "      <td>10</td>\n",
       "      <td>US</td>\n",
       "      <td>Soft, supple plum envelopes an oaky structure ...</td>\n",
       "      <td>Mountain Cuvée</td>\n",
       "      <td>87</td>\n",
       "      <td>19.0</td>\n",
       "      <td>California</td>\n",
       "      <td>Napa Valley</td>\n",
       "      <td>Napa</td>\n",
       "      <td>Virginie Boone</td>\n",
       "      <td>@vboone</td>\n",
       "      <td>Kirkland Signature 2011 Mountain Cuvée Caberne...</td>\n",
       "      <td>Cabernet Sauvignon</td>\n",
       "      <td>Kirkland Signature</td>\n",
       "    </tr>\n",
       "    <tr>\n",
       "      <th>2</th>\n",
       "      <td>23</td>\n",
       "      <td>23</td>\n",
       "      <td>US</td>\n",
       "      <td>This wine from the Geneseo district offers aro...</td>\n",
       "      <td>Signature Selection</td>\n",
       "      <td>87</td>\n",
       "      <td>22.0</td>\n",
       "      <td>California</td>\n",
       "      <td>Paso Robles</td>\n",
       "      <td>Central Coast</td>\n",
       "      <td>Matt Kettmann</td>\n",
       "      <td>@mattkettmann</td>\n",
       "      <td>Bianchi 2011 Signature Selection Merlot (Paso ...</td>\n",
       "      <td>Merlot</td>\n",
       "      <td>Bianchi</td>\n",
       "    </tr>\n",
       "    <tr>\n",
       "      <th>3</th>\n",
       "      <td>25</td>\n",
       "      <td>25</td>\n",
       "      <td>US</td>\n",
       "      <td>Oak and earth intermingle around robust aromas...</td>\n",
       "      <td>King Ridge Vineyard</td>\n",
       "      <td>87</td>\n",
       "      <td>69.0</td>\n",
       "      <td>California</td>\n",
       "      <td>Sonoma Coast</td>\n",
       "      <td>Sonoma</td>\n",
       "      <td>Virginie Boone</td>\n",
       "      <td>@vboone</td>\n",
       "      <td>Castello di Amorosa 2011 King Ridge Vineyard P...</td>\n",
       "      <td>Pinot Noir</td>\n",
       "      <td>Castello di Amorosa</td>\n",
       "    </tr>\n",
       "    <tr>\n",
       "      <th>4</th>\n",
       "      <td>35</td>\n",
       "      <td>35</td>\n",
       "      <td>US</td>\n",
       "      <td>As with many of the Erath 2010 vineyard design...</td>\n",
       "      <td>Hyland</td>\n",
       "      <td>86</td>\n",
       "      <td>50.0</td>\n",
       "      <td>Oregon</td>\n",
       "      <td>McMinnville</td>\n",
       "      <td>Willamette Valley</td>\n",
       "      <td>Paul Gregutt</td>\n",
       "      <td>@paulgwine</td>\n",
       "      <td>Erath 2010 Hyland Pinot Noir (McMinnville)</td>\n",
       "      <td>Pinot Noir</td>\n",
       "      <td>Erath</td>\n",
       "    </tr>\n",
       "  </tbody>\n",
       "</table>\n",
       "</div>"
      ],
      "text/plain": [
       "   Unnamed: 0  id country                                        description  \\\n",
       "0           4   4      US  Much like the regular bottling from 2012, this...   \n",
       "1          10  10      US  Soft, supple plum envelopes an oaky structure ...   \n",
       "2          23  23      US  This wine from the Geneseo district offers aro...   \n",
       "3          25  25      US  Oak and earth intermingle around robust aromas...   \n",
       "4          35  35      US  As with many of the Erath 2010 vineyard design...   \n",
       "\n",
       "                          designation  points  price    province  \\\n",
       "0  Vintner's Reserve Wild Child Block      87   65.0      Oregon   \n",
       "1                      Mountain Cuvée      87   19.0  California   \n",
       "2                 Signature Selection      87   22.0  California   \n",
       "3                 King Ridge Vineyard      87   69.0  California   \n",
       "4                              Hyland      86   50.0      Oregon   \n",
       "\n",
       "        first_region      second_region     taster_name taster_twitter_handle  \\\n",
       "0  Willamette Valley  Willamette Valley    Paul Gregutt           @paulgwine    \n",
       "1        Napa Valley               Napa  Virginie Boone               @vboone   \n",
       "2        Paso Robles      Central Coast   Matt Kettmann         @mattkettmann   \n",
       "3       Sonoma Coast             Sonoma  Virginie Boone               @vboone   \n",
       "4        McMinnville  Willamette Valley    Paul Gregutt           @paulgwine    \n",
       "\n",
       "                                               title             variety  \\\n",
       "0  Sweet Cheeks 2012 Vintner's Reserve Wild Child...          Pinot Noir   \n",
       "1  Kirkland Signature 2011 Mountain Cuvée Caberne...  Cabernet Sauvignon   \n",
       "2  Bianchi 2011 Signature Selection Merlot (Paso ...              Merlot   \n",
       "3  Castello di Amorosa 2011 King Ridge Vineyard P...          Pinot Noir   \n",
       "4         Erath 2010 Hyland Pinot Noir (McMinnville)          Pinot Noir   \n",
       "\n",
       "                winery  \n",
       "0         Sweet Cheeks  \n",
       "1   Kirkland Signature  \n",
       "2              Bianchi  \n",
       "3  Castello di Amorosa  \n",
       "4                Erath  "
      ]
     },
     "execution_count": 3,
     "metadata": {},
     "output_type": "execute_result"
    }
   ],
   "source": [
    "# preview df\n",
    "wine_df.head()"
   ]
  },
  {
   "cell_type": "code",
   "execution_count": 4,
   "metadata": {},
   "outputs": [
    {
     "name": "stdout",
     "output_type": "stream",
     "text": [
      "['Willamette Valley' 'Napa Valley' 'Paso Robles' 'Sonoma Coast'\n",
      " 'McMinnville' 'Columbia Valley (WA)' 'Santa Ynez Valley'\n",
      " 'Alexander Valley' 'Howell Mountain' 'Calistoga' 'Eola-Amity Hills'\n",
      " 'Knights Valley' 'Sonoma County' 'Santa Clara Valley' 'Yountville'\n",
      " 'Spring Mountain District' 'Santa Lucia Highlands' 'Monterey'\n",
      " 'Carmel Valley' 'Edna Valley' 'Russian River Valley' 'Nevada County'\n",
      " 'Arroyo Seco' 'Dry Creek Valley' 'Dundee Hills'\n",
      " 'Diamond Mountain District' 'Finger Lakes' 'Walla Walla Valley (WA)'\n",
      " 'California' 'Wahluke Slope' 'Templeton Gap District' 'Snipes Mountain'\n",
      " 'Santa Barbara County' 'Sonoma Valley' 'Ribbon Ridge' 'Red Mountain'\n",
      " 'El Dorado' 'Suisun Valley' 'Lodi' 'Monterey County' 'Chiles Valley'\n",
      " 'Calaveras County' 'Chehalem Mountains' 'Horse Heaven Hills'\n",
      " 'Arroyo Grande Valley' 'Oregon' 'Umpqua Valley' 'Santa Maria Valley'\n",
      " 'Ballard Canyon' 'Green Valley' 'Carneros' 'Sierra Foothills'\n",
      " 'Sta. Rita Hills' 'Central Coast' 'Yakima Valley' 'Columbia Gorge (WA)'\n",
      " 'Santa Cruz Mountains' 'Rogue Valley' 'Mokelumne River' 'Mount Veeder'\n",
      " 'Rockpile' 'Livermore Valley' 'Temecula Valley' 'Rutherford'\n",
      " 'Ancient Lakes' 'Shenandoah Valley (CA)' 'Amador County'\n",
      " 'Yorkville Highlands' 'Happy Canyon of Santa Barbara'\n",
      " 'Walla Walla Valley (OR)' 'Yolo County' 'Naches Heights'\n",
      " 'Sonoma Mountain' 'Bennett Valley' 'Paso Robles Willow Creek District'\n",
      " 'Fair Play' 'Dunnigan Hills' 'St. Helena' 'Oakville' 'Southern Oregon'\n",
      " 'Applegate Valley' 'San Luis Obispo County' 'Washington'\n",
      " 'Columbia Valley (OR)' 'Contra Costa County' 'Chalk Hill'\n",
      " 'Cucamonga Valley' 'North Coast' 'Placer County' 'Solano County'\n",
      " 'Adelaida District' 'Columbia Gorge (OR)' 'Lake Chelan'\n",
      " 'Rattlesnake Hills' 'El Dorado County' 'Napa County' 'Fort Ross-Seaview'\n",
      " 'Mt. Harlan' 'Temecula' 'Stags Leap District' 'South Coast'\n",
      " 'San Antonio Valley' 'Sonoma County-Napa County' 'San Luis Obispo'\n",
      " 'San Bernabe' 'Fiddletown' 'Ben Lomond Mountain' 'Marin County'\n",
      " 'Clarksburg' 'Los Carneros' 'North Fork of Long Island' 'Sonoma-Napa'\n",
      " 'Coombsville' 'Santa Barbara' 'Chalone' 'Chelan County'\n",
      " 'Saddle Rock-Malibu' 'Atlas Peak' 'Moon Mountain District Sonoma County'\n",
      " 'Santa Clara County' 'Northern Sonoma' 'The Hamptons, Long Island'\n",
      " 'Carneros-Napa Valley' 'Oak Knoll District' 'El Pomar District'\n",
      " 'Santa Margarita Ranch' 'Malibu Coast' 'San Benito County'\n",
      " 'San Francisco Bay' 'Elkton Oregon' 'Sonoma-Mendocino' 'Alta Mesa'\n",
      " 'New York' 'Cayuga Lake' 'Sonoma County-Monterey County'\n",
      " 'Humboldt County' 'Sierra Pelona Valley' 'Ventura County'\n",
      " 'Mendocino-Lake' 'Monterey-Santa Cruz' 'Cienega Valley' 'Madera'\n",
      " 'Puget Sound' 'Clements Hills' 'Sonoma County-San Joaquin County'\n",
      " 'Long Island' 'Tuolumne County' 'San Francisco Bay-Livermore Valley'\n",
      " 'Yamhill County' 'Columbia Valley-Walla Walla Valley'\n",
      " 'Pine Mountain-Cloverdale Peak' 'Paicines'\n",
      " 'Sonoma County-Monterey County-Napa County' 'Tehama County'\n",
      " 'Ramona Valley' 'Hudson River Region'\n",
      " 'Sonoma County-Monterey County-Santa Barbara County' 'Sonoma'\n",
      " 'Monterey County-Napa County-Sonoma County'\n",
      " 'Napa County-Sonoma County-San Joaquin County'\n",
      " 'Napa County-Sonoma County' 'River Junction'\n",
      " 'Napa County-Sonoma County-Lake County' 'Capay Valley' 'Napa-Carneros'\n",
      " 'Malibu-Newton Canyon' 'San Lucas' 'Sonoma County-Lake County'\n",
      " 'York Mountain' 'San Diego County' 'Sonoma-Napa-Lake']\n"
     ]
    },
    {
     "data": {
      "text/plain": [
       "171"
      ]
     },
     "execution_count": 4,
     "metadata": {},
     "output_type": "execute_result"
    }
   ],
   "source": [
    "# extract region column and get all unique values\n",
    "unique_regions = wine_df['first_region'].unique()\n",
    "\n",
    "print(unique_regions)\n",
    "wine_df['first_region'].nunique()"
   ]
  },
  {
   "cell_type": "code",
   "execution_count": 5,
   "metadata": {},
   "outputs": [
    {
     "ename": "IndexError",
     "evalue": "list index out of range",
     "output_type": "error",
     "traceback": [
      "\u001b[1;31m---------------------------------------------------------------------------\u001b[0m",
      "\u001b[1;31mIndexError\u001b[0m                                Traceback (most recent call last)",
      "\u001b[1;32m<ipython-input-5-9165eb685318>\u001b[0m in \u001b[0;36m<module>\u001b[1;34m()\u001b[0m\n\u001b[0;32m      4\u001b[0m     \u001b[0mquery_url\u001b[0m \u001b[1;33m=\u001b[0m \u001b[1;34m'https://maps.googleapis.com/maps/api/geocode/json?address='\u001b[0m \u001b[1;33m+\u001b[0m \u001b[0mregion\u001b[0m \u001b[1;33m+\u001b[0m \u001b[1;34m'&key='\u001b[0m \u001b[1;33m+\u001b[0m \u001b[0mgkey\u001b[0m\u001b[1;33m\u001b[0m\u001b[0m\n\u001b[0;32m      5\u001b[0m     \u001b[0mresponse\u001b[0m \u001b[1;33m=\u001b[0m \u001b[0mrequests\u001b[0m\u001b[1;33m.\u001b[0m\u001b[0mget\u001b[0m\u001b[1;33m(\u001b[0m\u001b[0mquery_url\u001b[0m\u001b[1;33m)\u001b[0m\u001b[1;33m.\u001b[0m\u001b[0mjson\u001b[0m\u001b[1;33m(\u001b[0m\u001b[1;33m)\u001b[0m\u001b[1;33m\u001b[0m\u001b[0m\n\u001b[1;32m----> 6\u001b[1;33m     \u001b[0mcoords\u001b[0m \u001b[1;33m=\u001b[0m \u001b[0mresponse\u001b[0m\u001b[1;33m[\u001b[0m\u001b[1;34m'results'\u001b[0m\u001b[1;33m]\u001b[0m\u001b[1;33m[\u001b[0m\u001b[1;36m0\u001b[0m\u001b[1;33m]\u001b[0m\u001b[1;33m[\u001b[0m\u001b[1;34m'geometry'\u001b[0m\u001b[1;33m]\u001b[0m\u001b[1;33m[\u001b[0m\u001b[1;34m'location'\u001b[0m\u001b[1;33m]\u001b[0m\u001b[1;33m\u001b[0m\u001b[0m\n\u001b[0m\u001b[0;32m      7\u001b[0m     \u001b[0mregion_list\u001b[0m\u001b[1;33m.\u001b[0m\u001b[0mappend\u001b[0m\u001b[1;33m(\u001b[0m\u001b[0mcoords\u001b[0m\u001b[1;33m)\u001b[0m\u001b[1;33m\u001b[0m\u001b[0m\n\u001b[0;32m      8\u001b[0m \u001b[1;31m#     wine_df['latitude'] = response['results'][0]['geometry']['location']['lat']\u001b[0m\u001b[1;33m\u001b[0m\u001b[1;33m\u001b[0m\u001b[0m\n",
      "\u001b[1;31mIndexError\u001b[0m: list index out of range"
     ]
    }
   ],
   "source": [
    "# iterate through each unique region and do API pull to get their longitude and latitudes \n",
    "region_list = []\n",
    "for region in unique_regions:\n",
    "    query_url = 'https://maps.googleapis.com/maps/api/geocode/json?address=' + region + '&key=' + gkey\n",
    "    response = requests.get(query_url).json()\n",
    "    coords = response['results'][0]['geometry']['location']\n",
    "    region_list.append(coords)\n",
    "#     wine_df['latitude'] = response['results'][0]['geometry']['location']['lat']\n",
    "#     location = response['results'][0]['geometry']['location']\n",
    "#     latitude = location['lat']\n",
    "#     longitude = location['lng']"
   ]
  },
  {
   "cell_type": "code",
   "execution_count": null,
   "metadata": {},
   "outputs": [],
   "source": [
    "print(region_list)"
   ]
  },
  {
   "cell_type": "code",
   "execution_count": 48,
   "metadata": {},
   "outputs": [
    {
     "name": "stdout",
     "output_type": "stream",
     "text": [
      "{'lat': 38.5477595, 'lng': -122.5106037}\n"
     ]
    }
   ],
   "source": [
    "# pprint(response) \n",
    "print(response['results'][0]['geometry']['location'])"
   ]
  },
  {
   "cell_type": "code",
   "execution_count": null,
   "metadata": {},
   "outputs": [],
   "source": [
    "#for each row in df, if region == 'region name' then wine_df['latitude'] = ... "
   ]
  }
 ],
 "metadata": {
  "kernelspec": {
   "display_name": "Python 3",
   "language": "python",
   "name": "python3"
  },
  "language_info": {
   "codemirror_mode": {
    "name": "ipython",
    "version": 3
   },
   "file_extension": ".py",
   "mimetype": "text/x-python",
   "name": "python",
   "nbconvert_exporter": "python",
   "pygments_lexer": "ipython3",
   "version": "3.6.5"
  }
 },
 "nbformat": 4,
 "nbformat_minor": 2
}
